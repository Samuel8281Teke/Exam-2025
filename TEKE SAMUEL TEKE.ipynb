{
 "cells": [
  {
   "cell_type": "markdown",
   "metadata": {},
   "source": [
    "## Data Analytics with Visualization in Python Exam.\n",
    "\n",
    "## <><><><>Student Identification Information<><><><>\n",
    "\n",
    "### Student Name: TEKE SAMUEL TEKE\n",
    "### Matriculation Number: LMUI-25SWE313\n",
    "### Specialty: Software Engineering"
   ]
  },
  {
   "cell_type": "markdown",
   "metadata": {},
   "source": [
    "## This is a practical examination. INTERNET ACCESS IS PROHIBITED!\n",
    "### Scenario\n",
    "Company XYZ is a mid-sized e-commerce retailer specializing in fashion and lifestyle products in Buea. Over the past year, the company has experienced steady growth but is now facing increased competition and a plateau in customer retention. To address this, XYZ aims to leverage the data generated during the entire life-time of the business. She safeguards the data and stores it into an excel sheet with the file name Customer Shopping dataset. Her intention is to use the data to explore insights and discover patterns to gain deeper insights into customer behavior, preferences, and purchasing patterns. The goal is to tailor marketing strategies, optimize product offerings, and improve the overall customer experience to drive higher engagement and loyalty.\n",
    "The Customer Shopping Dataset offers valuable insights into consumer behavior and purchasing patterns. Understanding customer preferences and trends is critical for XYZ to tailor their products, marketing strategies, and overall customer experience. This dataset captures a wide range of customer attributes including age, gender, purchase history, preferred payment methods, frequency of purchases, and more. Analyzing this data can help businesses make informed decisions, optimize product offerings, and enhance customer satisfaction. The dataset stands as a valuable resource for XYZ aiming to align their strategies with customer needs and preferences. Additionally, data on the type of items purchased, shopping frequency, preferred shopping seasons, and interactions with promotional offers is included. With a collection of 3900 records, this dataset serves as a foundation for businesses looking to apply data-driven insights for better decision-making and customer-centric strategies. \n",
    "The dataset will be provided during the start of the exam.\n"
   ]
  },
  {
   "cell_type": "markdown",
   "metadata": {},
   "source": [
    "### Data Dictionary"
   ]
  },
  {
   "cell_type": "markdown",
   "metadata": {
    "papermill": {
     "duration": 0.025588,
     "end_time": "2023-11-04T12:15:43.061926",
     "exception": false,
     "start_time": "2023-11-04T12:15:43.036338",
     "status": "completed"
    },
    "tags": []
   },
   "source": [
    "1. Customer ID - Unique identifier for each customer.\n",
    "2. Age - Age of the customer.\n",
    "3. Gender - Gender of the customer (Male/Female).\n",
    "4. Item Purchased - The item purchased by the customer.\n",
    "5. Category - Category of the item purchased.\n",
    "6. Purchase Amount (USD) - The amount of the purchase in USD.\n",
    "7. Location - Location where the purchase was made.\n",
    "8. Size - Size of the purchased item.\n",
    "9. Color - Color of the purchased item.\n",
    "10. Season - Season during which the purchase was made.\n",
    "11. Review Rating - Rating given by the customer for the purchased item.\n",
    "12. Subscription Status - Indicates if the customer has a subscription (Yes/No).\n",
    "13. Shipping Type - Type of shipping chosen by the customer.\n",
    "14. Discount Applied - Indicates if a discount was applied to the purchase (Yes/No).\n",
    "15. Promo Code Used - Indicates if a promo code was used for the purchase (Yes/No).\n",
    "16. Previous Purchases - Number of previous purchases made by the customer.\n",
    "17. Payment Method - Customer's most preferred payment method.\n",
    "18. Frequency of Purchases - Frequency at which the customer makes purchases (e.g., Weekly, Fortnightly, Monthly)."
   ]
  },
  {
   "cell_type": "markdown",
   "metadata": {
    "papermill": {
     "duration": 0.025145,
     "end_time": "2023-11-04T12:15:43.112710",
     "exception": false,
     "start_time": "2023-11-04T12:15:43.087565",
     "status": "completed"
    },
    "tags": []
   },
   "source": [
    "<div style=\"padding:10px;\n",
    "            color:#E55604;\n",
    "            margin:10px;\n",
    "            font-size:130%;\n",
    "            display:fill;\n",
    "            border-radius:5px;\n",
    "            border-style: solid;\n",
    "            border-color: #FF9B50;\n",
    "            background-color:#000000;\n",
    "            overflow:hidden;\n",
    "            font-weight:400\"><b>Importing Libraries</b>\n",
    "</div>"
   ]
  },
  {
   "cell_type": "code",
   "execution_count": 33,
   "metadata": {
    "papermill": {
     "duration": 1.732175,
     "end_time": "2023-11-04T12:15:44.871714",
     "exception": false,
     "start_time": "2023-11-04T12:15:43.139539",
     "status": "completed"
    },
    "tags": []
   },
   "outputs": [],
   "source": [
    "import pandas as pd \n",
    "import numpy as np\n",
    "import matplotlib.pyplot as plt \n",
    "import seaborn as sns  "
   ]
  },
  {
   "cell_type": "markdown",
   "metadata": {
    "papermill": {
     "duration": 0.02353,
     "end_time": "2023-11-04T12:15:44.920371",
     "exception": false,
     "start_time": "2023-11-04T12:15:44.896841",
     "status": "completed"
    },
    "tags": []
   },
   "source": [
    "<div style=\"padding:10px;\n",
    "            color:#E55604;\n",
    "            margin:10px;\n",
    "            font-size:130%;\n",
    "            display:fill;\n",
    "            border-radius:5px;\n",
    "            border-style: solid;\n",
    "            border-color: #FF9B50;\n",
    "            background-color:#000000;\n",
    "            overflow:hidden;\n",
    "            font-weight:400\"><b>Load the Dataset</b>\n",
    "</div>"
   ]
  },
  {
   "cell_type": "code",
   "execution_count": 76,
   "metadata": {
    "papermill": {
     "duration": 0.093165,
     "end_time": "2023-11-04T12:15:45.037398",
     "exception": false,
     "start_time": "2023-11-04T12:15:44.944233",
     "status": "completed"
    },
    "tags": []
   },
   "outputs": [
    {
     "name": "stdout",
     "output_type": "stream",
     "text": [
      "   Customer ID  Age Gender Item Purchased  Category  Purchase Amount (USD)  \\\n",
      "0            1   55   Male         Blouse  Clothing                     53   \n",
      "1            2   19   Male        Sweater  Clothing                     64   \n",
      "2            3   50   Male          Jeans  Clothing                     73   \n",
      "3            4   21   Male        Sandals  Footwear                     90   \n",
      "4            5   45   Male         Blouse  Clothing                     49   \n",
      "\n",
      "        Location Size      Color  Season  Review Rating Subscription Status  \\\n",
      "0       Kentucky    L       Gray  Winter            3.1                 Yes   \n",
      "1          Maine    L     Maroon  Winter            3.1                 Yes   \n",
      "2  Massachusetts    S     Maroon  Spring            3.1                 Yes   \n",
      "3   Rhode Island    M     Maroon  Spring            3.5                 Yes   \n",
      "4         Oregon    M  Turquoise  Spring            2.7                 Yes   \n",
      "\n",
      "   Shipping Type Discount Applied Promo Code Used  Previous Purchases  \\\n",
      "0        Express              Yes             Yes                  14   \n",
      "1        Express              Yes             Yes                   2   \n",
      "2  Free Shipping              Yes             Yes                  23   \n",
      "3   Next Day Air              Yes             Yes                  49   \n",
      "4  Free Shipping              Yes             Yes                  31   \n",
      "\n",
      "  Payment Method Frequency of Purchases  \n",
      "0          Venmo            Fortnightly  \n",
      "1           Cash            Fortnightly  \n",
      "2    Credit Card                 Weekly  \n",
      "3         PayPal                 Weekly  \n",
      "4         PayPal               Annually  \n"
     ]
    }
   ],
   "source": [
    "df = pd.read_csv(\"shopping.csv\")\n",
    "print(df.head())"
   ]
  },
  {
   "cell_type": "markdown",
   "metadata": {},
   "source": [
    "### Exercise 1: Provide background information on the data set provided following the questions below\t(2 marks)\n",
    "- a) Determine the number of rows and columns in the Dataset\n",
    "- b) Provide some Information about the Dataset\n",
    "- c) Check if there are any null values present in the dataset or not?\n",
    "- d) Check if there are any duplicate values present in the dataset or not?\n"
   ]
  },
  {
   "cell_type": "markdown",
   "metadata": {
    "papermill": {
     "duration": 0.0244,
     "end_time": "2023-11-04T12:15:45.087301",
     "exception": false,
     "start_time": "2023-11-04T12:15:45.062901",
     "status": "completed"
    },
    "tags": []
   },
   "source": [
    "<div style=\"padding:10px;\n",
    "            color:#E55604;\n",
    "            margin:10px;\n",
    "            font-size:130%;\n",
    "            display:fill;\n",
    "            border-radius:5px;\n",
    "            border-style: solid;\n",
    "            border-color: #FF9B50;\n",
    "            background-color:#000000;\n",
    "            overflow:hidden;\n",
    "            font-weight:400\"><b>Check the shape of the Dataset</b>\n",
    "</div>"
   ]
  },
  {
   "cell_type": "code",
   "execution_count": null,
   "metadata": {
    "execution": {
     "iopub.execute_input": "2023-11-04T12:15:45.139793Z",
     "iopub.status.busy": "2023-11-04T12:15:45.138371Z",
     "iopub.status.idle": "2023-11-04T12:15:45.144799Z",
     "shell.execute_reply": "2023-11-04T12:15:45.144114Z"
    },
    "papermill": {
     "duration": 0.034576,
     "end_time": "2023-11-04T12:15:45.146462",
     "exception": false,
     "start_time": "2023-11-04T12:15:45.111886",
     "status": "completed"
    },
    "tags": []
   },
   "outputs": [],
   "source": [
    "rows, columns = df.shape\n",
    "print(f\"Number of rows: {rows}\")\n",
    "print(f\"Number of columns: {columns}\")"
   ]
  },
  {
   "cell_type": "markdown",
   "metadata": {
    "papermill": {
     "duration": 0.026398,
     "end_time": "2023-11-04T12:15:45.200438",
     "exception": false,
     "start_time": "2023-11-04T12:15:45.174040",
     "status": "completed"
    },
    "tags": []
   },
   "source": [
    "<div style=\"padding:10px;\n",
    "            color:#E55604;\n",
    "            margin:10px;\n",
    "            font-size:130%;\n",
    "            display:fill;\n",
    "            border-radius:5px;\n",
    "            border-style: solid;\n",
    "            border-color: #FF9B50;\n",
    "            background-color:#000000;\n",
    "            overflow:hidden;\n",
    "            font-weight:400\"><b>Checking the number of Columns in the Dataset</b>\n",
    "</div>"
   ]
  },
  {
   "cell_type": "code",
   "execution_count": 43,
   "metadata": {
    "papermill": {
     "duration": 0.03654,
     "end_time": "2023-11-04T12:15:45.262864",
     "exception": false,
     "start_time": "2023-11-04T12:15:45.226324",
     "status": "completed"
    },
    "tags": []
   },
   "outputs": [
    {
     "name": "stdout",
     "output_type": "stream",
     "text": [
      "Number of rows: 3900\n",
      "Number of columns: 18\n"
     ]
    }
   ],
   "source": [
    "rows, columns = df.shape\n",
    "print(f\"Number of rows: {rows}\")\n",
    "print(f\"Number of columns: {columns}\")"
   ]
  },
  {
   "cell_type": "markdown",
   "metadata": {
    "papermill": {
     "duration": 0.024653,
     "end_time": "2023-11-04T12:15:45.313623",
     "exception": false,
     "start_time": "2023-11-04T12:15:45.288970",
     "status": "completed"
    },
    "tags": []
   },
   "source": [
    "<div style=\"padding:10px;\n",
    "            color:#E55604;\n",
    "            margin:10px;\n",
    "            font-size:130%;\n",
    "            display:fill;\n",
    "            border-radius:5px;\n",
    "            border-style: solid;\n",
    "            border-color: #FF9B50;\n",
    "            background-color:#000000;\n",
    "            overflow:hidden;\n",
    "            font-weight:400\"><b>Information about the Dataset</b>\n",
    "</div>"
   ]
  },
  {
   "cell_type": "code",
   "execution_count": 45,
   "metadata": {
    "papermill": {
     "duration": 0.053989,
     "end_time": "2023-11-04T12:15:45.392025",
     "exception": false,
     "start_time": "2023-11-04T12:15:45.338036",
     "status": "completed"
    },
    "tags": []
   },
   "outputs": [
    {
     "name": "stdout",
     "output_type": "stream",
     "text": [
      "<class 'pandas.core.frame.DataFrame'>\n",
      "RangeIndex: 3900 entries, 0 to 3899\n",
      "Data columns (total 18 columns):\n",
      " #   Column                  Non-Null Count  Dtype  \n",
      "---  ------                  --------------  -----  \n",
      " 0   Customer ID             3900 non-null   int64  \n",
      " 1   Age                     3900 non-null   int64  \n",
      " 2   Gender                  3900 non-null   object \n",
      " 3   Item Purchased          3900 non-null   object \n",
      " 4   Category                3900 non-null   object \n",
      " 5   Purchase Amount (USD)   3900 non-null   int64  \n",
      " 6   Location                3900 non-null   object \n",
      " 7   Size                    3900 non-null   object \n",
      " 8   Color                   3900 non-null   object \n",
      " 9   Season                  3900 non-null   object \n",
      " 10  Review Rating           3900 non-null   float64\n",
      " 11  Subscription Status     3900 non-null   object \n",
      " 12  Shipping Type           3900 non-null   object \n",
      " 13  Discount Applied        3900 non-null   object \n",
      " 14  Promo Code Used         3900 non-null   object \n",
      " 15  Previous Purchases      3900 non-null   int64  \n",
      " 16  Payment Method          3900 non-null   object \n",
      " 17  Frequency of Purchases  3900 non-null   object \n",
      "dtypes: float64(1), int64(4), object(13)\n",
      "memory usage: 548.6+ KB\n",
      "None\n"
     ]
    }
   ],
   "source": [
    "print(df.info())"
   ]
  },
  {
   "cell_type": "code",
   "execution_count": null,
   "metadata": {
    "execution": {
     "iopub.execute_input": "2023-11-04T12:15:45.444522Z",
     "iopub.status.busy": "2023-11-04T12:15:45.443561Z",
     "iopub.status.idle": "2023-11-04T12:15:45.465490Z",
     "shell.execute_reply": "2023-11-04T12:15:45.464744Z"
    },
    "papermill": {
     "duration": 0.049906,
     "end_time": "2023-11-04T12:15:45.467069",
     "exception": false,
     "start_time": "2023-11-04T12:15:45.417163",
     "status": "completed"
    },
    "tags": []
   },
   "outputs": [],
   "source": []
  },
  {
   "cell_type": "markdown",
   "metadata": {
    "papermill": {
     "duration": 0.024556,
     "end_time": "2023-11-04T12:15:45.517107",
     "exception": false,
     "start_time": "2023-11-04T12:15:45.492551",
     "status": "completed"
    },
    "tags": []
   },
   "source": [
    "<div style=\"padding:10px;\n",
    "            color:#E55604;\n",
    "            margin:10px;\n",
    "            font-size:130%;\n",
    "            display:fill;\n",
    "            border-radius:5px;\n",
    "            border-style: solid;\n",
    "            border-color: #FF9B50;\n",
    "            background-color:#000000;\n",
    "            overflow:hidden;\n",
    "            font-weight:400\"><b>Checking if there are any null values present in the dataset or not ?</b>\n",
    "</div>"
   ]
  },
  {
   "cell_type": "code",
   "execution_count": 47,
   "metadata": {
    "papermill": {
     "duration": 0.038169,
     "end_time": "2023-11-04T12:15:45.579764",
     "exception": false,
     "start_time": "2023-11-04T12:15:45.541595",
     "status": "completed"
    },
    "tags": []
   },
   "outputs": [
    {
     "name": "stdout",
     "output_type": "stream",
     "text": [
      "Null values in each column:\n",
      "Customer ID               0\n",
      "Age                       0\n",
      "Gender                    0\n",
      "Item Purchased            0\n",
      "Category                  0\n",
      "Purchase Amount (USD)     0\n",
      "Location                  0\n",
      "Size                      0\n",
      "Color                     0\n",
      "Season                    0\n",
      "Review Rating             0\n",
      "Subscription Status       0\n",
      "Shipping Type             0\n",
      "Discount Applied          0\n",
      "Promo Code Used           0\n",
      "Previous Purchases        0\n",
      "Payment Method            0\n",
      "Frequency of Purchases    0\n",
      "dtype: int64\n"
     ]
    }
   ],
   "source": [
    "# Check for null values\n",
    "null_counts = df.isnull().sum()\n",
    "print(\"Null values in each column:\")\n",
    "print(null_counts)"
   ]
  },
  {
   "cell_type": "markdown",
   "metadata": {
    "papermill": {
     "duration": 0.027956,
     "end_time": "2023-11-04T12:15:45.634520",
     "exception": false,
     "start_time": "2023-11-04T12:15:45.606564",
     "status": "completed"
    },
    "tags": []
   },
   "source": [
    "<div style=\"padding:10px;\n",
    "            color:#E55604;\n",
    "            margin:10px;\n",
    "            font-size:130%;\n",
    "            display:fill;\n",
    "            border-radius:5px;\n",
    "            border-style: solid;\n",
    "            border-color: #FF9B50;\n",
    "            background-color:#000000;\n",
    "            overflow:hidden;\n",
    "            font-weight:400\"><b>Checking if there are any duplicate values present in the dataset or not ?</b>\n",
    "</div>"
   ]
  },
  {
   "cell_type": "code",
   "execution_count": 49,
   "metadata": {
    "papermill": {
     "duration": 0.04553,
     "end_time": "2023-11-04T12:15:45.706472",
     "exception": false,
     "start_time": "2023-11-04T12:15:45.660942",
     "status": "completed"
    },
    "tags": []
   },
   "outputs": [
    {
     "name": "stdout",
     "output_type": "stream",
     "text": [
      "Number of duplicate rows: 0\n"
     ]
    }
   ],
   "source": [
    "duplicate_count = df.duplicated().sum()\n",
    "print(f\"Number of duplicate rows: {duplicate_count}\")"
   ]
  },
  {
   "cell_type": "markdown",
   "metadata": {},
   "source": [
    "### Exercise 2: Perform the following operations\t\t\t\t(5 marks)\n",
    "- a) Determine the number of items purchased per a given category of the items. \n",
    "- b) What are the various sizes of fashion clothing sold and locations from where clients purchase from? \n",
    "- c) Determine the number of people who have and haven’t subscribed? Also determine their preferred method of payment. \n",
    "- d) How frequent are purchases made? \n"
   ]
  },
  {
   "cell_type": "code",
   "execution_count": 51,
   "metadata": {
    "papermill": {
     "duration": 0.040857,
     "end_time": "2023-11-04T12:15:46.821431",
     "exception": false,
     "start_time": "2023-11-04T12:15:46.780574",
     "status": "completed"
    },
    "tags": []
   },
   "outputs": [
    {
     "name": "stdout",
     "output_type": "stream",
     "text": [
      "Number of items purchased per category:\n",
      "Category\n",
      "Clothing       1737\n",
      "Accessories    1240\n",
      "Footwear        599\n",
      "Outerwear       324\n",
      "Name: count, dtype: int64\n"
     ]
    }
   ],
   "source": [
    "category_counts = df['Category'].value_counts()\n",
    "print(\"Number of items purchased per category:\")\n",
    "print(category_counts)"
   ]
  },
  {
   "cell_type": "code",
   "execution_count": 53,
   "metadata": {
    "papermill": {
     "duration": 0.041602,
     "end_time": "2023-11-04T12:15:47.446287",
     "exception": false,
     "start_time": "2023-11-04T12:15:47.404685",
     "status": "completed"
    },
    "tags": []
   },
   "outputs": [
    {
     "name": "stdout",
     "output_type": "stream",
     "text": [
      "Various sizes of fashion clothing sold:\n",
      "['L' 'S' 'M' 'XL']\n",
      "\n",
      "Locations from where clients purchase:\n",
      "['Kentucky' 'Maine' 'Massachusetts' 'Rhode Island' 'Oregon' 'Wyoming'\n",
      " 'Montana' 'Louisiana' 'West Virginia' 'Missouri' 'Arkansas' 'Hawaii'\n",
      " 'Delaware' 'New Hampshire' 'New York' 'Alabama' 'Mississippi'\n",
      " 'North Carolina' 'California' 'Oklahoma' 'Florida' 'Texas' 'Nevada'\n",
      " 'Kansas' 'Colorado' 'North Dakota' 'Illinois' 'Indiana' 'Arizona'\n",
      " 'Alaska' 'Tennessee' 'Ohio' 'New Jersey' 'Maryland' 'Vermont'\n",
      " 'New Mexico' 'South Carolina' 'Idaho' 'Pennsylvania' 'Connecticut' 'Utah'\n",
      " 'Virginia' 'Georgia' 'Nebraska' 'Iowa' 'South Dakota' 'Minnesota'\n",
      " 'Washington' 'Wisconsin' 'Michigan']\n"
     ]
    }
   ],
   "source": [
    "sizes = df['Size'].unique()\n",
    "print(\"Various sizes of fashion clothing sold:\")\n",
    "print(sizes)\n",
    "\n",
    "# Get unique locations\n",
    "locations = df['Location'].unique()\n",
    "print(\"\\nLocations from where clients purchase:\")\n",
    "print(locations)"
   ]
  },
  {
   "cell_type": "code",
   "execution_count": 55,
   "metadata": {
    "papermill": {
     "duration": 0.041099,
     "end_time": "2023-11-04T12:15:48.017190",
     "exception": false,
     "start_time": "2023-11-04T12:15:47.976091",
     "status": "completed"
    },
    "tags": []
   },
   "outputs": [
    {
     "name": "stdout",
     "output_type": "stream",
     "text": [
      "Subscription Status Counts:\n",
      "Subscription Status\n",
      "No     2847\n",
      "Yes    1053\n",
      "Name: count, dtype: int64\n",
      "\n",
      "Preferred payment methods by subscription status:\n",
      "Subscription Status  Payment Method\n",
      "No                   Cash              497\n",
      "                     PayPal            497\n",
      "                     Credit Card       492\n",
      "                     Venmo             460\n",
      "                     Bank Transfer     455\n",
      "                     Debit Card        446\n",
      "Yes                  Debit Card        190\n",
      "                     PayPal            180\n",
      "                     Credit Card       179\n",
      "                     Venmo             174\n",
      "                     Cash              173\n",
      "                     Bank Transfer     157\n",
      "Name: count, dtype: int64\n"
     ]
    }
   ],
   "source": [
    "# Count of subscribed vs not subscribed\n",
    "subscription_counts = df['Subscription Status'].value_counts()\n",
    "print(\"Subscription Status Counts:\")\n",
    "print(subscription_counts)\n",
    "\n",
    "# Preferred payment method grouped by subscription status\n",
    "payment_by_subscription = df.groupby('Subscription Status')['Payment Method'].value_counts()\n",
    "print(\"\\nPreferred payment methods by subscription status:\")\n",
    "print(payment_by_subscription)"
   ]
  },
  {
   "cell_type": "code",
   "execution_count": 57,
   "metadata": {
    "papermill": {
     "duration": 0.047302,
     "end_time": "2023-11-04T12:15:50.191807",
     "exception": false,
     "start_time": "2023-11-04T12:15:50.144505",
     "status": "completed"
    },
    "tags": []
   },
   "outputs": [
    {
     "name": "stdout",
     "output_type": "stream",
     "text": [
      "Purchase frequency distribution:\n",
      "Frequency of Purchases\n",
      "Every 3 Months    584\n",
      "Annually          572\n",
      "Quarterly         563\n",
      "Monthly           553\n",
      "Bi-Weekly         547\n",
      "Fortnightly       542\n",
      "Weekly            539\n",
      "Name: count, dtype: int64\n"
     ]
    }
   ],
   "source": [
    "# Count frequency types\n",
    "purchase_frequency = df['Frequency of Purchases'].value_counts()\n",
    "print(\"Purchase frequency distribution:\")\n",
    "print(purchase_frequency)"
   ]
  },
  {
   "cell_type": "code",
   "execution_count": null,
   "metadata": {
    "execution": {
     "iopub.execute_input": "2023-11-04T12:15:50.958513Z",
     "iopub.status.busy": "2023-11-04T12:15:50.957816Z",
     "iopub.status.idle": "2023-11-04T12:15:50.966549Z",
     "shell.execute_reply": "2023-11-04T12:15:50.965481Z"
    },
    "papermill": {
     "duration": 0.049573,
     "end_time": "2023-11-04T12:15:50.969235",
     "exception": false,
     "start_time": "2023-11-04T12:15:50.919662",
     "status": "completed"
    },
    "tags": []
   },
   "outputs": [],
   "source": []
  },
  {
   "cell_type": "code",
   "execution_count": null,
   "metadata": {
    "execution": {
     "iopub.execute_input": "2023-11-04T12:15:53.614734Z",
     "iopub.status.busy": "2023-11-04T12:15:53.614311Z",
     "iopub.status.idle": "2023-11-04T12:15:53.623782Z",
     "shell.execute_reply": "2023-11-04T12:15:53.623151Z"
    },
    "papermill": {
     "duration": 0.053128,
     "end_time": "2023-11-04T12:15:53.625420",
     "exception": false,
     "start_time": "2023-11-04T12:15:53.572292",
     "status": "completed"
    },
    "tags": []
   },
   "outputs": [],
   "source": []
  },
  {
   "cell_type": "markdown",
   "metadata": {},
   "source": [
    "### Exercise 3: Perform the following Data exploration tasks. \t\t(7 marks)\n",
    "- a)\tWhat is the average age of customers in the dataset?\n",
    "- b)\tWhat is the most common item purchased?\n",
    "- c)\tWhat is the total purchase amount for each category?\n",
    "- d)\tWhat is the average review rating for male customers and female customers separately?\n",
    "- e)\tWhat is the most common payment method used by customers?\n",
    "- f)\tWhat is the median purchase amount (USD)?\n",
    "- g)\tHow many customers have opted for the Subscription?\n"
   ]
  },
  {
   "cell_type": "markdown",
   "metadata": {
    "papermill": {
     "duration": 0.041839,
     "end_time": "2023-11-04T12:15:54.422346",
     "exception": false,
     "start_time": "2023-11-04T12:15:54.380507",
     "status": "completed"
    },
    "tags": []
   },
   "source": [
    "<div style=\"padding:10px;\n",
    "            color:#E55604;\n",
    "            margin:10px;\n",
    "            font-size:130%;\n",
    "            display:fill;\n",
    "            border-radius:5px;\n",
    "            border-style: solid;\n",
    "            border-color: #FF9B50;\n",
    "            background-color:#000000;\n",
    "            overflow:hidden;\n",
    "            font-weight:400\"><b>What is the average age of customers in the dataset ?</b>\n",
    "</div>"
   ]
  },
  {
   "cell_type": "code",
   "execution_count": 59,
   "metadata": {
    "papermill": {
     "duration": 0.05413,
     "end_time": "2023-11-04T12:15:54.519443",
     "exception": false,
     "start_time": "2023-11-04T12:15:54.465313",
     "status": "completed"
    },
    "tags": []
   },
   "outputs": [
    {
     "data": {
      "text/plain": [
       "44.06846153846154"
      ]
     },
     "execution_count": 59,
     "metadata": {},
     "output_type": "execute_result"
    }
   ],
   "source": [
    "df['Age'].mean()"
   ]
  },
  {
   "cell_type": "markdown",
   "metadata": {
    "papermill": {
     "duration": 0.043438,
     "end_time": "2023-11-04T12:15:54.607260",
     "exception": false,
     "start_time": "2023-11-04T12:15:54.563822",
     "status": "completed"
    },
    "tags": []
   },
   "source": [
    "<div style=\"padding:10px;\n",
    "            color:#E55604;\n",
    "            margin:10px;\n",
    "            font-size:130%;\n",
    "            display:fill;\n",
    "            border-radius:5px;\n",
    "            border-style: solid;\n",
    "            border-color: #FF9B50;\n",
    "            background-color:#000000;\n",
    "            overflow:hidden;\n",
    "            font-weight:400\"><b>What is the most common item purchased ?</b>\n",
    "</div>"
   ]
  },
  {
   "cell_type": "code",
   "execution_count": 61,
   "metadata": {
    "papermill": {
     "duration": 0.055392,
     "end_time": "2023-11-04T12:15:54.705880",
     "exception": false,
     "start_time": "2023-11-04T12:15:54.650488",
     "status": "completed"
    },
    "tags": []
   },
   "outputs": [
    {
     "data": {
      "text/plain": [
       "'Blouse'"
      ]
     },
     "execution_count": 61,
     "metadata": {},
     "output_type": "execute_result"
    }
   ],
   "source": [
    "df['Item Purchased'].value_counts().idxmax()"
   ]
  },
  {
   "cell_type": "markdown",
   "metadata": {
    "papermill": {
     "duration": 0.043033,
     "end_time": "2023-11-04T12:15:54.792416",
     "exception": false,
     "start_time": "2023-11-04T12:15:54.749383",
     "status": "completed"
    },
    "tags": []
   },
   "source": [
    "<div style=\"padding:10px;\n",
    "            color:#E55604;\n",
    "            margin:10px;\n",
    "            font-size:130%;\n",
    "            display:fill;\n",
    "            border-radius:5px;\n",
    "            border-style: solid;\n",
    "            border-color: #FF9B50;\n",
    "            background-color:#000000;\n",
    "            overflow:hidden;\n",
    "            font-weight:400\"><b>What is the total purchase amount for each category ?</b>\n",
    "</div>"
   ]
  },
  {
   "cell_type": "code",
   "execution_count": 63,
   "metadata": {
    "papermill": {
     "duration": 0.057163,
     "end_time": "2023-11-04T12:15:54.893095",
     "exception": false,
     "start_time": "2023-11-04T12:15:54.835932",
     "status": "completed"
    },
    "tags": []
   },
   "outputs": [
    {
     "data": {
      "text/plain": [
       "Category\n",
       "Accessories     74200\n",
       "Clothing       104264\n",
       "Footwear        36093\n",
       "Outerwear       18524\n",
       "Name: Purchase Amount (USD), dtype: int64"
      ]
     },
     "execution_count": 63,
     "metadata": {},
     "output_type": "execute_result"
    }
   ],
   "source": [
    "df.groupby('Category')['Purchase Amount (USD)'].sum()"
   ]
  },
  {
   "cell_type": "markdown",
   "metadata": {
    "papermill": {
     "duration": 0.043673,
     "end_time": "2023-11-04T12:15:54.981540",
     "exception": false,
     "start_time": "2023-11-04T12:15:54.937867",
     "status": "completed"
    },
    "tags": []
   },
   "source": [
    "<div style=\"padding:10px;\n",
    "            color:#E55604;\n",
    "            margin:10px;\n",
    "            font-size:130%;\n",
    "            display:fill;\n",
    "            border-radius:5px;\n",
    "            border-style: solid;\n",
    "            border-color: #FF9B50;\n",
    "            background-color:#000000;\n",
    "            overflow:hidden;\n",
    "            font-weight:400\"><b>What is the average review rating for male customers and female customers separately ?</b>\n",
    "</div>"
   ]
  },
  {
   "cell_type": "code",
   "execution_count": 65,
   "metadata": {
    "papermill": {
     "duration": 0.057116,
     "end_time": "2023-11-04T12:15:55.081762",
     "exception": false,
     "start_time": "2023-11-04T12:15:55.024646",
     "status": "completed"
    },
    "tags": []
   },
   "outputs": [
    {
     "data": {
      "text/plain": [
       "Gender\n",
       "Female    3.741426\n",
       "Male      3.753959\n",
       "Name: Review Rating, dtype: float64"
      ]
     },
     "execution_count": 65,
     "metadata": {},
     "output_type": "execute_result"
    }
   ],
   "source": [
    "df.groupby('Gender')['Review Rating'].mean()"
   ]
  },
  {
   "cell_type": "markdown",
   "metadata": {
    "papermill": {
     "duration": 0.042029,
     "end_time": "2023-11-04T12:15:55.170931",
     "exception": false,
     "start_time": "2023-11-04T12:15:55.128902",
     "status": "completed"
    },
    "tags": []
   },
   "source": [
    "<div style=\"padding:10px;\n",
    "            color:#E55604;\n",
    "            margin:10px;\n",
    "            font-size:130%;\n",
    "            display:fill;\n",
    "            border-radius:5px;\n",
    "            border-style: solid;\n",
    "            border-color: #FF9B50;\n",
    "            background-color:#000000;\n",
    "            overflow:hidden;\n",
    "            font-weight:400\"><b>What is the most common payment method used by customers ?</b>\n",
    "</div>"
   ]
  },
  {
   "cell_type": "code",
   "execution_count": 67,
   "metadata": {
    "papermill": {
     "duration": 0.052864,
     "end_time": "2023-11-04T12:15:55.267716",
     "exception": false,
     "start_time": "2023-11-04T12:15:55.214852",
     "status": "completed"
    },
    "tags": []
   },
   "outputs": [
    {
     "data": {
      "text/plain": [
       "'PayPal'"
      ]
     },
     "execution_count": 67,
     "metadata": {},
     "output_type": "execute_result"
    }
   ],
   "source": [
    "df['Payment Method'].value_counts().idxmax()"
   ]
  },
  {
   "cell_type": "markdown",
   "metadata": {
    "papermill": {
     "duration": 0.043404,
     "end_time": "2023-11-04T12:15:55.355818",
     "exception": false,
     "start_time": "2023-11-04T12:15:55.312414",
     "status": "completed"
    },
    "tags": []
   },
   "source": [
    "<div style=\"padding:10px;\n",
    "            color:#E55604;\n",
    "            margin:10px;\n",
    "            font-size:130%;\n",
    "            display:fill;\n",
    "            border-radius:5px;\n",
    "            border-style: solid;\n",
    "            border-color: #FF9B50;\n",
    "            background-color:#000000;\n",
    "            overflow:hidden;\n",
    "            font-weight:400\"><b>What is the median purchase amount (USD) ?</b>\n",
    "</div>"
   ]
  },
  {
   "cell_type": "code",
   "execution_count": 70,
   "metadata": {
    "papermill": {
     "duration": 0.052241,
     "end_time": "2023-11-04T12:15:55.451886",
     "exception": false,
     "start_time": "2023-11-04T12:15:55.399645",
     "status": "completed"
    },
    "tags": []
   },
   "outputs": [
    {
     "data": {
      "text/plain": [
       "60.0"
      ]
     },
     "execution_count": 70,
     "metadata": {},
     "output_type": "execute_result"
    }
   ],
   "source": [
    "df['Purchase Amount (USD)'].median()"
   ]
  },
  {
   "cell_type": "markdown",
   "metadata": {
    "papermill": {
     "duration": 0.043396,
     "end_time": "2023-11-04T12:15:55.538396",
     "exception": false,
     "start_time": "2023-11-04T12:15:55.495000",
     "status": "completed"
    },
    "tags": []
   },
   "source": [
    "<div style=\"padding:10px;\n",
    "            color:#E55604;\n",
    "            margin:10px;\n",
    "            font-size:130%;\n",
    "            display:fill;\n",
    "            border-radius:5px;\n",
    "            border-style: solid;\n",
    "            border-color: #FF9B50;\n",
    "            background-color:#000000;\n",
    "            overflow:hidden;\n",
    "            font-weight:400\"><b>How many customers have opted for the Subscription ?</b></div>"
   ]
  },
  {
   "cell_type": "code",
   "execution_count": 72,
   "metadata": {
    "papermill": {
     "duration": 0.056976,
     "end_time": "2023-11-04T12:15:55.638896",
     "exception": false,
     "start_time": "2023-11-04T12:15:55.581920",
     "status": "completed"
    },
    "tags": []
   },
   "outputs": [
    {
     "data": {
      "text/plain": [
       "Subscription Status\n",
       "No     2847\n",
       "Yes    1053\n",
       "Name: count, dtype: int64"
      ]
     },
     "execution_count": 72,
     "metadata": {},
     "output_type": "execute_result"
    }
   ],
   "source": [
    "df['Subscription Status'].value_counts()"
   ]
  },
  {
   "cell_type": "markdown",
   "metadata": {},
   "source": [
    "### Exercise 4: (26 marks)\n",
    "- a)\tHow many customers have made more than 30 previous purchases?\n",
    "- b)\tHow many customers used a promo code for their purchase?\n",
    "- c)\tWhat is the average purchase amount for customers who used a discount?\n",
    "- d)\tWhat is the most common category of items purchased by female customers with a review rating below 3?\n",
    "- e)\tWhat is the average age of customers who made purchases with a review rating above 4 and used a promo code?\n",
    "- f)\tWhat is the total purchase amount for customers in each location?\n",
    "- g)\tWhat is the average purchase amount for customers who have a subscription and used Venmo as the payment method?\n",
    "- h)\tWhat is the frequency distribution of the 'Frequency of Purchases' column?\n",
    "- i)\tWhat is the average purchase amount for each color of items?\n"
   ]
  },
  {
   "cell_type": "markdown",
   "metadata": {
    "papermill": {
     "duration": 0.043171,
     "end_time": "2023-11-04T12:15:57.036751",
     "exception": false,
     "start_time": "2023-11-04T12:15:56.993580",
     "status": "completed"
    },
    "tags": []
   },
   "source": [
    "<div style=\"padding:10px;\n",
    "            color:#E55604;\n",
    "            margin:10px;\n",
    "            font-size:130%;\n",
    "            display:fill;\n",
    "            border-radius:5px;\n",
    "            border-style: solid;\n",
    "            border-color: #FF9B50;\n",
    "            background-color:#000000;\n",
    "            overflow:hidden;\n",
    "            font-weight:400\"><b>How many customers have made more than 30 previous purchases ?</b>\n",
    "</div>"
   ]
  },
  {
   "cell_type": "code",
   "execution_count": 78,
   "metadata": {
    "papermill": {
     "duration": 0.058981,
     "end_time": "2023-11-04T12:15:57.141459",
     "exception": false,
     "start_time": "2023-11-04T12:15:57.082478",
     "status": "completed"
    },
    "tags": []
   },
   "outputs": [
    {
     "data": {
      "text/plain": [
       "1549"
      ]
     },
     "execution_count": 78,
     "metadata": {},
     "output_type": "execute_result"
    }
   ],
   "source": [
    "df[df['Previous Purchases'] > 30].shape[0] "
   ]
  },
  {
   "cell_type": "markdown",
   "metadata": {
    "papermill": {
     "duration": 0.04519,
     "end_time": "2023-11-04T12:15:56.477817",
     "exception": false,
     "start_time": "2023-11-04T12:15:56.432627",
     "status": "completed"
    },
    "tags": []
   },
   "source": [
    "<div style=\"padding:10px;\n",
    "            color:#E55604;\n",
    "            margin:10px;\n",
    "            font-size:130%;\n",
    "            display:fill;\n",
    "            border-radius:5px;\n",
    "            border-style: solid;\n",
    "            border-color: #FF9B50;\n",
    "            background-color:#000000;\n",
    "            overflow:hidden;\n",
    "            font-weight:400\"><b>How many customers used a promo code for their purchase ?</b></div>"
   ]
  },
  {
   "cell_type": "code",
   "execution_count": 80,
   "metadata": {
    "papermill": {
     "duration": 0.054696,
     "end_time": "2023-11-04T12:15:56.577684",
     "exception": false,
     "start_time": "2023-11-04T12:15:56.522988",
     "status": "completed"
    },
    "tags": []
   },
   "outputs": [
    {
     "data": {
      "text/plain": [
       "3900"
      ]
     },
     "execution_count": 80,
     "metadata": {},
     "output_type": "execute_result"
    }
   ],
   "source": [
    "df[df['Promo Code Used'].notna()].shape[0]"
   ]
  },
  {
   "cell_type": "markdown",
   "metadata": {
    "papermill": {
     "duration": 0.043226,
     "end_time": "2023-11-04T12:15:57.787754",
     "exception": false,
     "start_time": "2023-11-04T12:15:57.744528",
     "status": "completed"
    },
    "tags": []
   },
   "source": [
    "<div style=\"padding:10px;\n",
    "            color:#E55604;\n",
    "            margin:10px;\n",
    "            font-size:130%;\n",
    "            display:fill;\n",
    "            border-radius:5px;\n",
    "            border-style: solid;\n",
    "            border-color: #FF9B50;\n",
    "            background-color:#000000;\n",
    "            overflow:hidden;\n",
    "            font-weight:400\"><b>What is the average purchase amount for customers who used a discount ?</b></div>"
   ]
  },
  {
   "cell_type": "code",
   "execution_count": 82,
   "metadata": {
    "papermill": {
     "duration": 0.054835,
     "end_time": "2023-11-04T12:15:57.886657",
     "exception": false,
     "start_time": "2023-11-04T12:15:57.831822",
     "status": "completed"
    },
    "tags": []
   },
   "outputs": [
    {
     "data": {
      "text/plain": [
       "Index(['Customer ID', 'Age', 'Gender', 'Item Purchased', 'Category',\n",
       "       'Purchase Amount (USD)', 'Location', 'Size', 'Color', 'Season',\n",
       "       'Review Rating', 'Subscription Status', 'Shipping Type',\n",
       "       'Discount Applied', 'Promo Code Used', 'Previous Purchases',\n",
       "       'Payment Method', 'Frequency of Purchases'],\n",
       "      dtype='object')"
      ]
     },
     "execution_count": 82,
     "metadata": {},
     "output_type": "execute_result"
    }
   ],
   "source": [
    "df.columns "
   ]
  },
  {
   "cell_type": "markdown",
   "metadata": {
    "papermill": {
     "duration": 0.043847,
     "end_time": "2023-11-04T12:15:57.973360",
     "exception": false,
     "start_time": "2023-11-04T12:15:57.929513",
     "status": "completed"
    },
    "tags": []
   },
   "source": [
    "<div style=\"padding:10px;\n",
    "            color:#E55604;\n",
    "            margin:10px;\n",
    "            font-size:130%;\n",
    "            display:fill;\n",
    "            border-radius:5px;\n",
    "            border-style: solid;\n",
    "            border-color: #FF9B50;\n",
    "            background-color:#000000;\n",
    "            overflow:hidden;\n",
    "            font-weight:400\"><b>What is the most common category of items purchased by female customers with a review rating below 3 ?</b>\n",
    "</div>"
   ]
  },
  {
   "cell_type": "code",
   "execution_count": 84,
   "metadata": {
    "papermill": {
     "duration": 0.057461,
     "end_time": "2023-11-04T12:15:58.076751",
     "exception": false,
     "start_time": "2023-11-04T12:15:58.019290",
     "status": "completed"
    },
    "tags": []
   },
   "outputs": [
    {
     "data": {
      "text/plain": [
       "'Clothing'"
      ]
     },
     "execution_count": 84,
     "metadata": {},
     "output_type": "execute_result"
    }
   ],
   "source": [
    "df[(df['Gender'] == 'Female') & (df['Review Rating'] < 3)]['Category'].value_counts().idxmax()"
   ]
  },
  {
   "cell_type": "markdown",
   "metadata": {
    "papermill": {
     "duration": 0.047803,
     "end_time": "2023-11-04T12:15:58.172320",
     "exception": false,
     "start_time": "2023-11-04T12:15:58.124517",
     "status": "completed"
    },
    "tags": []
   },
   "source": [
    "<div style=\"padding:10px;\n",
    "            color:#E55604;\n",
    "            margin:10px;\n",
    "            font-size:130%;\n",
    "            display:fill;\n",
    "            border-radius:5px;\n",
    "            border-style: solid;\n",
    "            border-color: #FF9B50;\n",
    "            background-color:#000000;\n",
    "            overflow:hidden;\n",
    "            font-weight:400\"><b>What is the average age of customers who made purchases with a review rating above 4 and used a promo code?</b></div>"
   ]
  },
  {
   "cell_type": "code",
   "execution_count": 86,
   "metadata": {
    "papermill": {
     "duration": 0.060793,
     "end_time": "2023-11-04T12:15:58.277945",
     "exception": false,
     "start_time": "2023-11-04T12:15:58.217152",
     "status": "completed"
    },
    "tags": []
   },
   "outputs": [
    {
     "data": {
      "text/plain": [
       "43.53451811346548"
      ]
     },
     "execution_count": 86,
     "metadata": {},
     "output_type": "execute_result"
    }
   ],
   "source": [
    "df[(df['Review Rating'] > 4) & (df['Promo Code Used'].notna())]['Age'].mean()"
   ]
  },
  {
   "cell_type": "markdown",
   "metadata": {
    "papermill": {
     "duration": 0.045353,
     "end_time": "2023-11-04T12:15:58.369652",
     "exception": false,
     "start_time": "2023-11-04T12:15:58.324299",
     "status": "completed"
    },
    "tags": []
   },
   "source": [
    "<div style=\"padding:10px;\n",
    "            color:#E55604;\n",
    "            margin:10px;\n",
    "            font-size:130%;\n",
    "            display:fill;\n",
    "            border-radius:5px;\n",
    "            border-style: solid;\n",
    "            border-color: #FF9B50;\n",
    "            background-color:#000000;\n",
    "            overflow:hidden;\n",
    "            font-weight:400\"><b>What is the total purchase amount for customers in each location ?</b></div>"
   ]
  },
  {
   "cell_type": "code",
   "execution_count": 88,
   "metadata": {
    "papermill": {
     "duration": 0.058131,
     "end_time": "2023-11-04T12:15:58.473501",
     "exception": false,
     "start_time": "2023-11-04T12:15:58.415370",
     "status": "completed"
    },
    "tags": []
   },
   "outputs": [
    {
     "data": {
      "text/plain": [
       "Location\n",
       "Alabama           5261\n",
       "Alaska            4867\n",
       "Arizona           4326\n",
       "Arkansas          4828\n",
       "California        5605\n",
       "Colorado          4222\n",
       "Connecticut       4226\n",
       "Delaware          4758\n",
       "Florida           3798\n",
       "Georgia           4645\n",
       "Hawaii            3752\n",
       "Idaho             5587\n",
       "Illinois          5617\n",
       "Indiana           4655\n",
       "Iowa              4201\n",
       "Kansas            3437\n",
       "Kentucky          4402\n",
       "Louisiana         4848\n",
       "Maine             4388\n",
       "Maryland          4795\n",
       "Massachusetts     4384\n",
       "Michigan          4533\n",
       "Minnesota         4977\n",
       "Mississippi       4883\n",
       "Missouri          4691\n",
       "Montana           5784\n",
       "Nebraska          5172\n",
       "Nevada            5514\n",
       "New Hampshire     4219\n",
       "New Jersey        3802\n",
       "New Mexico        5014\n",
       "New York          5257\n",
       "North Carolina    4742\n",
       "North Dakota      5220\n",
       "Ohio              4649\n",
       "Oklahoma          4376\n",
       "Oregon            4243\n",
       "Pennsylvania      4926\n",
       "Rhode Island      3871\n",
       "South Carolina    4439\n",
       "South Dakota      4236\n",
       "Tennessee         4772\n",
       "Texas             4712\n",
       "Utah              4443\n",
       "Vermont           4860\n",
       "Virginia          4842\n",
       "Washington        4623\n",
       "West Virginia     5174\n",
       "Wisconsin         4196\n",
       "Wyoming           4309\n",
       "Name: Purchase Amount (USD), dtype: int64"
      ]
     },
     "execution_count": 88,
     "metadata": {},
     "output_type": "execute_result"
    }
   ],
   "source": [
    "df.groupby('Location')['Purchase Amount (USD)'].sum()"
   ]
  },
  {
   "cell_type": "markdown",
   "metadata": {
    "papermill": {
     "duration": 0.048939,
     "end_time": "2023-11-04T12:15:58.567846",
     "exception": false,
     "start_time": "2023-11-04T12:15:58.518907",
     "status": "completed"
    },
    "tags": []
   },
   "source": [
    "<div style=\"padding:10px;\n",
    "            color:#E55604;\n",
    "            margin:10px;\n",
    "            font-size:130%;\n",
    "            display:fill;\n",
    "            border-radius:5px;\n",
    "            border-style: solid;\n",
    "            border-color: #FF9B50;\n",
    "            background-color:#000000;\n",
    "            overflow:hidden;\n",
    "            font-weight:400\"><b>What is the average purchase amount for customers who have a subscription and used Venmo as the payment method ?</b></div>"
   ]
  },
  {
   "cell_type": "code",
   "execution_count": 90,
   "metadata": {
    "papermill": {
     "duration": 0.061668,
     "end_time": "2023-11-04T12:15:58.677162",
     "exception": false,
     "start_time": "2023-11-04T12:15:58.615494",
     "status": "completed"
    },
    "tags": []
   },
   "outputs": [
    {
     "data": {
      "text/plain": [
       "nan"
      ]
     },
     "execution_count": 90,
     "metadata": {},
     "output_type": "execute_result"
    }
   ],
   "source": [
    "df[(df['Subscription Status'] == 'Subscribed') & (df['Payment Method'] == 'Venmo')]['Purchase Amount (USD)'].mean()"
   ]
  },
  {
   "cell_type": "markdown",
   "metadata": {
    "papermill": {
     "duration": 0.044647,
     "end_time": "2023-11-04T12:15:58.767835",
     "exception": false,
     "start_time": "2023-11-04T12:15:58.723188",
     "status": "completed"
    },
    "tags": []
   },
   "source": [
    "<div style=\"padding:10px;\n",
    "            color:#E55604;\n",
    "            margin:10px;\n",
    "            font-size:130%;\n",
    "            display:fill;\n",
    "            border-radius:5px;\n",
    "            border-style: solid;\n",
    "            border-color: #FF9B50;\n",
    "            background-color:#000000;\n",
    "            overflow:hidden;\n",
    "            font-weight:400\"><b>What is the frequency distribution of the 'Frequency of Purchases' column ?</b></div>"
   ]
  },
  {
   "cell_type": "code",
   "execution_count": 92,
   "metadata": {
    "papermill": {
     "duration": 0.055771,
     "end_time": "2023-11-04T12:15:58.868180",
     "exception": false,
     "start_time": "2023-11-04T12:15:58.812409",
     "status": "completed"
    },
    "tags": []
   },
   "outputs": [
    {
     "data": {
      "text/plain": [
       "Frequency of Purchases\n",
       "Every 3 Months    584\n",
       "Annually          572\n",
       "Quarterly         563\n",
       "Monthly           553\n",
       "Bi-Weekly         547\n",
       "Fortnightly       542\n",
       "Weekly            539\n",
       "Name: count, dtype: int64"
      ]
     },
     "execution_count": 92,
     "metadata": {},
     "output_type": "execute_result"
    }
   ],
   "source": [
    "df['Frequency of Purchases'].value_counts()"
   ]
  },
  {
   "cell_type": "markdown",
   "metadata": {
    "papermill": {
     "duration": 0.043939,
     "end_time": "2023-11-04T12:15:58.955809",
     "exception": false,
     "start_time": "2023-11-04T12:15:58.911870",
     "status": "completed"
    },
    "tags": []
   },
   "source": [
    "<div style=\"padding:10px;\n",
    "            color:#E55604;\n",
    "            margin:10px;\n",
    "            font-size:130%;\n",
    "            display:fill;\n",
    "            border-radius:5px;\n",
    "            border-style: solid;\n",
    "            border-color: #FF9B50;\n",
    "            background-color:#000000;\n",
    "            overflow:hidden;\n",
    "            font-weight:400\"><b>What is the average purchase amount for each color of items ?</b></div>"
   ]
  },
  {
   "cell_type": "code",
   "execution_count": 94,
   "metadata": {
    "papermill": {
     "duration": 0.0652,
     "end_time": "2023-11-04T12:15:59.067882",
     "exception": false,
     "start_time": "2023-11-04T12:15:59.002682",
     "status": "completed"
    },
    "tags": []
   },
   "outputs": [
    {
     "data": {
      "text/plain": [
       "Color\n",
       "Beige        60.414966\n",
       "Black        58.401198\n",
       "Blue         56.953947\n",
       "Brown        59.063830\n",
       "Charcoal     60.633987\n",
       "Cyan         61.891566\n",
       "Gold         61.007246\n",
       "Gray         62.490566\n",
       "Green        65.704142\n",
       "Indigo       56.251701\n",
       "Lavender     59.129252\n",
       "Magenta      57.131579\n",
       "Maroon       59.525316\n",
       "Olive        58.146893\n",
       "Orange       60.889610\n",
       "Peach        59.187919\n",
       "Pink         60.588235\n",
       "Purple       60.013245\n",
       "Red          59.317568\n",
       "Silver       56.832370\n",
       "Teal         60.808140\n",
       "Turquoise    55.613793\n",
       "Violet       61.716867\n",
       "White        62.640845\n",
       "Yellow       59.241379\n",
       "Name: Purchase Amount (USD), dtype: float64"
      ]
     },
     "execution_count": 94,
     "metadata": {},
     "output_type": "execute_result"
    }
   ],
   "source": [
    "df.groupby('Color')['Purchase Amount (USD)'].mean()"
   ]
  },
  {
   "cell_type": "markdown",
   "metadata": {},
   "source": [
    "### Exercise 5: (6 marks)\n",
    "- a)\tWhat is the most common payment method for customers who purchased items in the Fall season?\n",
    "- b)\tHow many customers have made a purchase in each category?\n",
    "- c)\tWhat is the average age of customers who purchased accessories with a discount applied?\n",
    "- d)\tWhat is the total purchase amount for each size of clothing items (XL, L, M, S)?\n",
    "- e)\tWhat is the total purchase amount for customers who have made more than 40 previous purchases?\n",
    "- f)\tWhat is the most common location for customers who purchased socks with a discount applied?\n"
   ]
  },
  {
   "cell_type": "markdown",
   "metadata": {
    "papermill": {
     "duration": 0.063072,
     "end_time": "2023-11-04T12:16:00.294813",
     "exception": false,
     "start_time": "2023-11-04T12:16:00.231741",
     "status": "completed"
    },
    "tags": []
   },
   "source": [
    "<div style=\"padding:10px;\n",
    "            color:#E55604;\n",
    "            margin:10px;\n",
    "            font-size:130%;\n",
    "            display:fill;\n",
    "            border-radius:5px;\n",
    "            border-style: solid;\n",
    "            border-color: #FF9B50;\n",
    "            background-color:#000000;\n",
    "            overflow:hidden;\n",
    "            font-weight:400\"><b>What is the most common payment method for customers who purchased items in the Fall season ?</b></div>"
   ]
  },
  {
   "cell_type": "code",
   "execution_count": 126,
   "metadata": {
    "papermill": {
     "duration": 0.074239,
     "end_time": "2023-11-04T12:16:00.432489",
     "exception": false,
     "start_time": "2023-11-04T12:16:00.358250",
     "status": "completed"
    },
    "tags": []
   },
   "outputs": [
    {
     "name": "stdout",
     "output_type": "stream",
     "text": [
      "a) Most common payment method in Fall: Cash\n"
     ]
    }
   ],
   "source": [
    "fall_payment_method = df[df['Season'] == 'Fall']['Payment Method'].mode()\n",
    "if not fall_payment_method.empty:\n",
    "    print(f\"a) Most common payment method in Fall: {fall_payment_method[0]}\")\n"
   ]
  },
  {
   "cell_type": "markdown",
   "metadata": {
    "papermill": {
     "duration": 0.062311,
     "end_time": "2023-11-04T12:16:00.556861",
     "exception": false,
     "start_time": "2023-11-04T12:16:00.494550",
     "status": "completed"
    },
    "tags": []
   },
   "source": [
    "<div style=\"padding:10px;\n",
    "            color:#E55604;\n",
    "            margin:10px;\n",
    "            font-size:130%;\n",
    "            display:fill;\n",
    "            border-radius:5px;\n",
    "            border-style: solid;\n",
    "            border-color: #FF9B50;\n",
    "            background-color:#000000;\n",
    "            overflow:hidden;\n",
    "            font-weight:400\"><b>How many customers have made a purchase in each category ?</b></div>"
   ]
  },
  {
   "cell_type": "code",
   "execution_count": 128,
   "metadata": {
    "papermill": {
     "duration": 0.071912,
     "end_time": "2023-11-04T12:16:00.689989",
     "exception": false,
     "start_time": "2023-11-04T12:16:00.618077",
     "status": "completed"
    },
    "tags": []
   },
   "outputs": [
    {
     "name": "stdout",
     "output_type": "stream",
     "text": [
      "\n",
      "b) Number of purchases per category:\n",
      "Category\n",
      "Clothing       1737\n",
      "Accessories    1240\n",
      "Footwear        599\n",
      "Outerwear       324\n",
      "Name: count, dtype: int64\n"
     ]
    }
   ],
   "source": [
    "purchase_per_category = df['Category'].value_counts()\n",
    "print(\"\\nb) Number of purchases per category:\")\n",
    "print(purchase_per_category)\n"
   ]
  },
  {
   "cell_type": "markdown",
   "metadata": {
    "papermill": {
     "duration": 0.060128,
     "end_time": "2023-11-04T12:16:00.811045",
     "exception": false,
     "start_time": "2023-11-04T12:16:00.750917",
     "status": "completed"
    },
    "tags": []
   },
   "source": [
    "<div style=\"padding:10px;\n",
    "            color:#E55604;\n",
    "            margin:10px;\n",
    "            font-size:130%;\n",
    "            display:fill;\n",
    "            border-radius:5px;\n",
    "            border-style: solid;\n",
    "            border-color: #FF9B50;\n",
    "            background-color:#000000;\n",
    "            overflow:hidden;\n",
    "            font-weight:400\"><b>What is the average age of customers who purchased accessories with a discount applied ?</b></div>"
   ]
  },
  {
   "cell_type": "code",
   "execution_count": 130,
   "metadata": {
    "papermill": {
     "duration": 0.072418,
     "end_time": "2023-11-04T12:16:00.945142",
     "exception": false,
     "start_time": "2023-11-04T12:16:00.872724",
     "status": "completed"
    },
    "tags": []
   },
   "outputs": [
    {
     "name": "stdout",
     "output_type": "stream",
     "text": [
      "\n",
      "c) Average age of customers buying discounted accessories: 44.2 years\n"
     ]
    }
   ],
   "source": [
    "accessory_discount_age = df[(df['Category'] == 'Accessories') & (df['Discount Applied'] == 'Yes')]['Age'].mean()\n",
    "print(f\"\\nc) Average age of customers buying discounted accessories: {accessory_discount_age:.1f} years\")\n"
   ]
  },
  {
   "cell_type": "markdown",
   "metadata": {
    "papermill": {
     "duration": 0.061337,
     "end_time": "2023-11-04T12:16:01.068847",
     "exception": false,
     "start_time": "2023-11-04T12:16:01.007510",
     "status": "completed"
    },
    "tags": []
   },
   "source": [
    "<div style=\"padding:10px;\n",
    "            color:#E55604;\n",
    "            margin:10px;\n",
    "            font-size:130%;\n",
    "            display:fill;\n",
    "            border-radius:5px;\n",
    "            border-style: solid;\n",
    "            border-color: #FF9B50;\n",
    "            background-color:#000000;\n",
    "            overflow:hidden;\n",
    "            font-weight:400\"><b>What is the total purchase amount for each size of clothing items (XL, L, M, S) ?</b></div>"
   ]
  },
  {
   "cell_type": "code",
   "execution_count": 132,
   "metadata": {
    "papermill": {
     "duration": 0.075841,
     "end_time": "2023-11-04T12:16:01.207844",
     "exception": false,
     "start_time": "2023-11-04T12:16:01.132003",
     "status": "completed"
    },
    "tags": []
   },
   "outputs": [
    {
     "name": "stdout",
     "output_type": "stream",
     "text": [
      "\n",
      "d) Total purchase amount by size (XL, L, M, S):\n",
      "Size\n",
      "L      61667\n",
      "M     105167\n",
      "S      40468\n",
      "XL     25779\n",
      "Name: Purchase Amount (USD), dtype: int64\n"
     ]
    }
   ],
   "source": [
    "sizes_to_check = ['XL', 'L', 'M', 'S']\n",
    "size_purchase_total = df[df['Size'].isin(sizes_to_check)].groupby('Size')['Purchase Amount (USD)'].sum()\n",
    "print(\"\\nd) Total purchase amount by size (XL, L, M, S):\")\n",
    "print(size_purchase_total)\n"
   ]
  },
  {
   "cell_type": "markdown",
   "metadata": {
    "papermill": {
     "duration": 0.060923,
     "end_time": "2023-11-04T12:16:01.331637",
     "exception": false,
     "start_time": "2023-11-04T12:16:01.270714",
     "status": "completed"
    },
    "tags": []
   },
   "source": [
    "<div style=\"padding:10px;\n",
    "            color:#E55604;\n",
    "            margin:10px;\n",
    "            font-size:130%;\n",
    "            display:fill;\n",
    "            border-radius:5px;\n",
    "            border-style: solid;\n",
    "            border-color: #FF9B50;\n",
    "            background-color:#000000;\n",
    "            overflow:hidden;\n",
    "            font-weight:400\"><b>What is the total purchase amount for customers who have made more than 40 previous purchases ?</b></div>"
   ]
  },
  {
   "cell_type": "code",
   "execution_count": 134,
   "metadata": {
    "papermill": {
     "duration": 0.072477,
     "end_time": "2023-11-04T12:16:01.466251",
     "exception": false,
     "start_time": "2023-11-04T12:16:01.393774",
     "status": "completed"
    },
    "tags": []
   },
   "outputs": [
    {
     "name": "stdout",
     "output_type": "stream",
     "text": [
      "\n",
      "e) Total purchase amount by customers with >40 previous purchases: $46590.00\n"
     ]
    }
   ],
   "source": [
    "total_purchase_gt_40 = df[df['Previous Purchases'] > 40]['Purchase Amount (USD)'].sum()\n",
    "print(f\"\\ne) Total purchase amount by customers with >40 previous purchases: ${total_purchase_gt_40:.2f}\")\n"
   ]
  },
  {
   "cell_type": "markdown",
   "metadata": {
    "papermill": {
     "duration": 0.062305,
     "end_time": "2023-11-04T12:16:01.590691",
     "exception": false,
     "start_time": "2023-11-04T12:16:01.528386",
     "status": "completed"
    },
    "tags": []
   },
   "source": [
    "<div style=\"padding:10px;\n",
    "            color:#E55604;\n",
    "            margin:10px;\n",
    "            font-size:130%;\n",
    "            display:fill;\n",
    "            border-radius:5px;\n",
    "            border-style: solid;\n",
    "            border-color: #FF9B50;\n",
    "            background-color:#000000;\n",
    "            overflow:hidden;\n",
    "            font-weight:400\"><b>What is the most common location for customers who purchased socks with a discount applied ?</b></div>"
   ]
  },
  {
   "cell_type": "code",
   "execution_count": 136,
   "metadata": {
    "papermill": {
     "duration": 0.073503,
     "end_time": "2023-11-04T12:16:01.726918",
     "exception": false,
     "start_time": "2023-11-04T12:16:01.653415",
     "status": "completed"
    },
    "tags": []
   },
   "outputs": [
    {
     "name": "stdout",
     "output_type": "stream",
     "text": [
      "f) Most common location for discounted sock purchases: Georgia\n"
     ]
    }
   ],
   "source": [
    "socks_discount_location = df[(df['Item Purchased'].str.lower() == 'socks') & (df['Discount Applied'] == 'Yes')]['Location'].mode()\n",
    "if not socks_discount_location.empty:\n",
    "    print(f\"f) Most common location for discounted sock purchases: {socks_discount_location[0]}\")\n",
    "\n"
   ]
  },
  {
   "cell_type": "markdown",
   "metadata": {},
   "source": [
    "### Exercise 6: (12 marks)\n",
    "- a)\tWhat is the average purchase amount for customers who have a subscription and used Venmo as the payment method, but did not use a promo code?\n",
    "- b)\tWhat is the most common item purchased by customers in Louisiana with a review rating of 4 or higher?\n",
    "- c)\tWhat is the total purchase amount for customers who made purchases in the Fall season and used a credit card as the payment method?\n",
    "- d)\tWhat is the most common category of items purchased by male customers in the Winter season with a review rating below 3?\n",
    "- e)\tHow many customers have a subscription status of 'Yes' and used a promo code for their purchase?\n",
    "- f)\tWhat is the correlation between a customer's age and their total previous purchases? Calculate the Pearson correlation coefficient.\n"
   ]
  },
  {
   "cell_type": "markdown",
   "metadata": {
    "papermill": {
     "duration": 0.061445,
     "end_time": "2023-11-04T12:16:01.850956",
     "exception": false,
     "start_time": "2023-11-04T12:16:01.789511",
     "status": "completed"
    },
    "tags": []
   },
   "source": [
    "<div style=\"padding:10px;\n",
    "            color:#E55604;\n",
    "            margin:10px;\n",
    "            font-size:130%;\n",
    "            display:fill;\n",
    "            border-radius:5px;\n",
    "            border-style: solid;\n",
    "            border-color: #FF9B50;\n",
    "            background-color:#000000;\n",
    "            overflow:hidden;\n",
    "            font-weight:400\"><b>What is the average purchase amount for customers who have a subscription and used Venmo as the payment method, but did not use a promo code ?</b></div>"
   ]
  },
  {
   "cell_type": "code",
   "execution_count": 108,
   "metadata": {
    "papermill": {
     "duration": 0.073537,
     "end_time": "2023-11-04T12:16:01.987127",
     "exception": false,
     "start_time": "2023-11-04T12:16:01.913590",
     "status": "completed"
    },
    "tags": []
   },
   "outputs": [
    {
     "name": "stdout",
     "output_type": "stream",
     "text": [
      "a) Avg purchase (Subscription + Venmo + No Promo): $nan\n"
     ]
    }
   ],
   "source": [
    "avg_sub_venmo_no_promo = df[(df['Subscription Status'] == 'Yes') &\n",
    "                            (df['Payment Method'] == 'Venmo') &\n",
    "                            (df['Promo Code Used'] == 'No')]['Purchase Amount (USD)'].mean()\n",
    "print(f\"a) Avg purchase (Subscription + Venmo + No Promo): ${avg_sub_venmo_no_promo:.2f}\")\n"
   ]
  },
  {
   "cell_type": "markdown",
   "metadata": {
    "papermill": {
     "duration": 0.065894,
     "end_time": "2023-11-04T12:16:02.115585",
     "exception": false,
     "start_time": "2023-11-04T12:16:02.049691",
     "status": "completed"
    },
    "tags": []
   },
   "source": [
    "<div style=\"padding:10px;\n",
    "            color:#E55604;\n",
    "            margin:10px;\n",
    "            font-size:130%;\n",
    "            display:fill;\n",
    "            border-radius:5px;\n",
    "            border-style: solid;\n",
    "            border-color: #FF9B50;\n",
    "            background-color:#000000;\n",
    "            overflow:hidden;\n",
    "            font-weight:400\"><b>What is the most common item purchased by customers in Louisiana with a review rating of 4 or higher ?</b></div>"
   ]
  },
  {
   "cell_type": "code",
   "execution_count": 110,
   "metadata": {
    "papermill": {
     "duration": 0.074502,
     "end_time": "2023-11-04T12:16:02.253341",
     "exception": false,
     "start_time": "2023-11-04T12:16:02.178839",
     "status": "completed"
    },
    "tags": []
   },
   "outputs": [
    {
     "name": "stdout",
     "output_type": "stream",
     "text": [
      "b) Most common item in Louisiana (rating >= 4): Sweater\n"
     ]
    }
   ],
   "source": [
    "la_high_rating_item = df[(df['Location'] == 'Louisiana') &\n",
    "                         (df['Review Rating'] >= 4)]['Item Purchased'].mode()\n",
    "if not la_high_rating_item.empty:\n",
    "    print(f\"b) Most common item in Louisiana (rating >= 4): {la_high_rating_item[0]}\")\n"
   ]
  },
  {
   "cell_type": "markdown",
   "metadata": {
    "papermill": {
     "duration": 0.062641,
     "end_time": "2023-11-04T12:16:02.378894",
     "exception": false,
     "start_time": "2023-11-04T12:16:02.316253",
     "status": "completed"
    },
    "tags": []
   },
   "source": [
    "<div style=\"padding:10px;\n",
    "            color:#E55604;\n",
    "            margin:10px;\n",
    "            font-size:130%;\n",
    "            display:fill;\n",
    "            border-radius:5px;\n",
    "            border-style: solid;\n",
    "            border-color: #FF9B50;\n",
    "            background-color:#000000;\n",
    "            overflow:hidden;\n",
    "            font-weight:400\"><b>What is the total purchase amount for customers who made purchases in the Fall season and used a credit card as the payment method ?</b></div>"
   ]
  },
  {
   "cell_type": "code",
   "execution_count": 112,
   "metadata": {
    "papermill": {
     "duration": 0.075269,
     "end_time": "2023-11-04T12:16:02.516901",
     "exception": false,
     "start_time": "2023-11-04T12:16:02.441632",
     "status": "completed"
    },
    "tags": []
   },
   "outputs": [
    {
     "name": "stdout",
     "output_type": "stream",
     "text": [
      "c) Total Fall purchases using Credit Card: $9905.00\n"
     ]
    }
   ],
   "source": [
    "fall_credit_total = df[(df['Season'] == 'Fall') &\n",
    "                       (df['Payment Method'].str.lower() == 'credit card')]['Purchase Amount (USD)'].sum()\n",
    "print(f\"c) Total Fall purchases using Credit Card: ${fall_credit_total:.2f}\")\n"
   ]
  },
  {
   "cell_type": "markdown",
   "metadata": {
    "papermill": {
     "duration": 0.062714,
     "end_time": "2023-11-04T12:16:02.641944",
     "exception": false,
     "start_time": "2023-11-04T12:16:02.579230",
     "status": "completed"
    },
    "tags": []
   },
   "source": [
    "<div style=\"padding:10px;\n",
    "            color:#E55604;\n",
    "            margin:10px;\n",
    "            font-size:130%;\n",
    "            display:fill;\n",
    "            border-radius:5px;\n",
    "            border-style: solid;\n",
    "            border-color: #FF9B50;\n",
    "            background-color:#000000;\n",
    "            overflow:hidden;\n",
    "            font-weight:400\"><b>What is the most common category of items purchased by male customers in the Winter season with a review rating below 3 ?</b></div>"
   ]
  },
  {
   "cell_type": "code",
   "execution_count": 114,
   "metadata": {
    "papermill": {
     "duration": 0.078293,
     "end_time": "2023-11-04T12:16:02.784328",
     "exception": false,
     "start_time": "2023-11-04T12:16:02.706035",
     "status": "completed"
    },
    "tags": []
   },
   "outputs": [
    {
     "name": "stdout",
     "output_type": "stream",
     "text": [
      "d) Most common category (Male, Winter, rating < 3): Clothing\n"
     ]
    }
   ],
   "source": [
    "male_winter_low_rating_category = df[(df['Gender'] == 'Male') &\n",
    "                                     (df['Season'] == 'Winter') &\n",
    "                                     (df['Review Rating'] < 3)]['Category'].mode()\n",
    "if not male_winter_low_rating_category.empty:\n",
    "    print(f\"d) Most common category (Male, Winter, rating < 3): {male_winter_low_rating_category[0]}\")\n"
   ]
  },
  {
   "cell_type": "markdown",
   "metadata": {
    "papermill": {
     "duration": 0.065248,
     "end_time": "2023-11-04T12:16:02.913027",
     "exception": false,
     "start_time": "2023-11-04T12:16:02.847779",
     "status": "completed"
    },
    "tags": []
   },
   "source": [
    "<div style=\"padding:10px;\n",
    "            color:#E55604;\n",
    "            margin:10px;\n",
    "            font-size:130%;\n",
    "            display:fill;\n",
    "            border-radius:5px;\n",
    "            border-style: solid;\n",
    "            border-color: #FF9B50;\n",
    "            background-color:#000000;\n",
    "            overflow:hidden;\n",
    "            font-weight:400\"><b>How many customers have a subscription status of 'Yes' and used a promo code for their purchase ?</b></div>"
   ]
  },
  {
   "cell_type": "code",
   "execution_count": 116,
   "metadata": {
    "papermill": {
     "duration": 0.076444,
     "end_time": "2023-11-04T12:16:03.053286",
     "exception": false,
     "start_time": "2023-11-04T12:16:02.976842",
     "status": "completed"
    },
    "tags": []
   },
   "outputs": [
    {
     "name": "stdout",
     "output_type": "stream",
     "text": [
      "e) Number of subscribed customers who used a promo code: 1053\n"
     ]
    }
   ],
   "source": [
    "sub_and_promo_count = df[(df['Subscription Status'] == 'Yes') &\n",
    "                         (df['Promo Code Used'] == 'Yes')].shape[0]\n",
    "print(f\"e) Number of subscribed customers who used a promo code: {sub_and_promo_count}\")\n"
   ]
  },
  {
   "cell_type": "markdown",
   "metadata": {
    "papermill": {
     "duration": 0.062651,
     "end_time": "2023-11-04T12:16:03.181891",
     "exception": false,
     "start_time": "2023-11-04T12:16:03.119240",
     "status": "completed"
    },
    "tags": []
   },
   "source": [
    "<div style=\"padding:10px;\n",
    "            color:#E55604;\n",
    "            margin:10px;\n",
    "            font-size:130%;\n",
    "            display:fill;\n",
    "            border-radius:5px;\n",
    "            border-style: solid;\n",
    "            border-color: #FF9B50;\n",
    "            background-color:#000000;\n",
    "            overflow:hidden;\n",
    "            font-weight:400\"><b>What is the correlation between a customer's age and their total previous purchases? Calculate the Pearson correlation coefficient</b></div>"
   ]
  },
  {
   "cell_type": "code",
   "execution_count": 118,
   "metadata": {
    "papermill": {
     "duration": 0.072979,
     "end_time": "2023-11-04T12:16:03.318328",
     "exception": false,
     "start_time": "2023-11-04T12:16:03.245349",
     "status": "completed"
    },
    "tags": []
   },
   "outputs": [
    {
     "name": "stdout",
     "output_type": "stream",
     "text": [
      "f) Pearson correlation (Age vs Previous Purchases): 0.040\n"
     ]
    }
   ],
   "source": [
    "correlation = df['Age'].corr(df['Previous Purchases'], method='pearson')\n",
    "print(f\"f) Pearson correlation (Age vs Previous Purchases): {correlation:.3f}\")\n"
   ]
  },
  {
   "cell_type": "markdown",
   "metadata": {},
   "source": [
    "### Part B: Data Visualization (12 marks)\n",
    "\n",
    "- Plot a Histogram of Age Distribution\n",
    "- Box Plot of Purchase Amount by Gender\n",
    "- Bar Plot of Payment Method by Season\n"
   ]
  },
  {
   "cell_type": "markdown",
   "metadata": {
    "papermill": {
     "duration": 0.066929,
     "end_time": "2023-11-04T12:16:03.452957",
     "exception": false,
     "start_time": "2023-11-04T12:16:03.386028",
     "status": "completed"
    },
    "tags": []
   },
   "source": [
    "### Histogram of Age Distribution"
   ]
  },
  {
   "cell_type": "code",
   "execution_count": 120,
   "metadata": {
    "papermill": {
     "duration": 0.308055,
     "end_time": "2023-11-04T12:16:03.826951",
     "exception": false,
     "start_time": "2023-11-04T12:16:03.518896",
     "status": "completed"
    },
    "tags": []
   },
   "outputs": [
    {
     "data": {
      "image/png": "[encoded data removed]",
      "text/plain": [
       "<Figure size 2000x600 with 1 Axes>"
      ]
     },
     "metadata": {},
     "output_type": "display_data"
    }
   ],
   "source": [
    "plt.figure(figsize = (20, 6))\n",
    "plt.hist(df['Age'], bins = 20, edgecolor = 'k')\n",
    "plt.title('')\n",
    "plt.xlabel('')\n",
    "plt.ylabel('Frequency')\n",
    "plt.show()"
   ]
  },
  {
   "cell_type": "markdown",
   "metadata": {
    "papermill": {
     "duration": 0.063417,
     "end_time": "2023-11-04T12:16:03.955972",
     "exception": false,
     "start_time": "2023-11-04T12:16:03.892555",
     "status": "completed"
    },
    "tags": []
   },
   "source": [
    "### Box Plot of Purchase Amount by Gender"
   ]
  },
  {
   "cell_type": "code",
   "execution_count": 122,
   "metadata": {
    "papermill": {
     "duration": 0.306635,
     "end_time": "2023-11-04T12:16:04.328166",
     "exception": false,
     "start_time": "2023-11-04T12:16:04.021531",
     "status": "completed"
    },
    "tags": []
   },
   "outputs": [
    {
     "data": {
      "image/png": "[encoded data removed]",
      "text/plain": [
       "<Figure size 2000x600 with 1 Axes>"
      ]
     },
     "metadata": {},
     "output_type": "display_data"
    }
   ],
   "source": [
    "plt.figure(figsize = (20, 6))\n",
    "sns.boxplot(x='Gender', y='Purchase Amount (USD)', data=df)\n",
    "plt.title('Purchase Amount by Gender')\n",
    "plt.xlabel('')\n",
    "plt.ylabel('')\n",
    "plt.show()"
   ]
  },
  {
   "cell_type": "markdown",
   "metadata": {},
   "source": []
  },
  {
   "cell_type": "markdown",
   "metadata": {
    "papermill": {
     "duration": 0.065252,
     "end_time": "2023-11-04T12:16:06.097732",
     "exception": false,
     "start_time": "2023-11-04T12:16:06.032480",
     "status": "completed"
    },
    "tags": []
   },
   "source": [
    "### Bar Plot of Payment Method by Season"
   ]
  },
  {
   "cell_type": "code",
   "execution_count": 124,
   "metadata": {},
   "outputs": [
    {
     "data": {
      "image/png": "[encoded data removed]",
      "text/plain": [
       "<Figure size 2000x600 with 1 Axes>"
      ]
     },
     "metadata": {},
     "output_type": "display_data"
    }
   ],
   "source": [
    "plt.figure(figsize=(20, 6))\n",
    "sns.barplot(x='Season', y='Purchase Amount (USD)', hue='Payment Method', data=df)\n",
    "plt.title('Purchase Amount by Season and Payment Method')\n",
    "plt.xlabel('')\n",
    "plt.ylabel('')\n",
    "plt.xticks(rotation = 0)\n",
    "plt.show()"
   ]
  },
  {
   "cell_type": "code",
   "execution_count": null,
   "metadata": {},
   "outputs": [],
   "source": []
  }
 ],
 "metadata": {
  "kernelspec": {
   "display_name": "Python 3",
   "language": "python",
   "name": "python3"
  },
  "language_info": {
   "codemirror_mode": {
    "name": "ipython",
    "version": 3
   },
   "file_extension": ".py",
   "mimetype": "text/x-python",
   "name": "python",
   "nbconvert_exporter": "python",
   "pygments_lexer": "ipython3",
   "version": "3.8.3"
  },
  "papermill": {
   "default_parameters": {},
   "duration": 30.929857,
   "end_time": "2023-11-04T12:16:10.857804",
   "environment_variables": {},
   "exception": null,
   "input_path": "__notebook__.ipynb",
   "output_path": "__notebook__.ipynb",
   "parameters": {},
   "start_time": "2023-11-04T12:15:39.927947",
   "version": "2.4.0"
  }
 },
 "nbformat": 4,
 "nbformat_minor": 5
}
